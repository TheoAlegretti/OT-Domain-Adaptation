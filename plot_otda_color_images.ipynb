{
  "cells": [
    {
      "cell_type": "code",
      "execution_count": 1,
      "metadata": {
        "collapsed": false
      },
      "outputs": [],
      "source": [
        "%matplotlib inline"
      ]
    },
    {
      "cell_type": "markdown",
      "metadata": {},
      "source": [
        "\n",
        "# OT for image color adaptation\n",
        "\n",
        "This example presents a way of transferring colors between two images\n",
        "with Optimal Transport as introduced in [6]\n",
        "\n",
        "[6] Ferradans, S., Papadakis, N., Peyre, G., & Aujol, J. F. (2014).\n",
        "Regularized discrete optimal transport.\n",
        "SIAM Journal on Imaging Sciences, 7(3), 1853-1882.\n"
      ]
    },
    {
      "cell_type": "code",
      "execution_count": 2,
      "metadata": {
        "collapsed": false
      },
      "outputs": [],
      "source": [
        "# Authors: Remi Flamary <remi.flamary@unice.fr>\n",
        "#          Stanislas Chambon <stan.chambon@gmail.com>\n",
        "#\n",
        "# License: MIT License\n",
        "\n",
        "# sphinx_gallery_thumbnail_number = 2\n",
        "\n",
        "import os\n",
        "from pathlib import Path\n",
        "\n",
        "import numpy as np\n",
        "from matplotlib import pyplot as plt\n",
        "import ot\n",
        "\n",
        "\n",
        "rng = np.random.RandomState(42)\n",
        "\n",
        "\n",
        "def im2mat(img):\n",
        "    \"\"\"Converts an image to matrix (one pixel per line)\"\"\"\n",
        "    return img.reshape((img.shape[0] * img.shape[1], img.shape[2]))\n",
        "\n",
        "\n",
        "def mat2im(X, shape):\n",
        "    \"\"\"Converts back a matrix to an image\"\"\"\n",
        "    return X.reshape(shape)\n",
        "\n",
        "\n",
        "def minmax(img):\n",
        "    return np.clip(img, 0, 1)"
      ]
    },
    {
      "cell_type": "markdown",
      "metadata": {},
      "source": [
        "## Generate data\n",
        "\n"
      ]
    },
    {
      "cell_type": "code",
      "execution_count": 4,
      "metadata": {
        "collapsed": false
      },
      "outputs": [
        {
          "ename": "FileNotFoundError",
          "evalue": "[Errno 2] No such file or directory: '/Users/theoalegretti/Documents/data/ocean_day.jpg'",
          "output_type": "error",
          "traceback": [
            "\u001b[0;31m---------------------------------------------------------------------------\u001b[0m",
            "\u001b[0;31mFileNotFoundError\u001b[0m                         Traceback (most recent call last)",
            "Cell \u001b[0;32mIn[4], line 5\u001b[0m\n\u001b[1;32m      2\u001b[0m this_file \u001b[39m=\u001b[39m os\u001b[39m.\u001b[39mpath\u001b[39m.\u001b[39mrealpath(\u001b[39m'\u001b[39m\u001b[39m__file__\u001b[39m\u001b[39m'\u001b[39m)\n\u001b[1;32m      3\u001b[0m data_path \u001b[39m=\u001b[39m os\u001b[39m.\u001b[39mpath\u001b[39m.\u001b[39mjoin(Path(this_file)\u001b[39m.\u001b[39mparent\u001b[39m.\u001b[39mparent\u001b[39m.\u001b[39mparent, \u001b[39m'\u001b[39m\u001b[39mdata\u001b[39m\u001b[39m'\u001b[39m)\n\u001b[0;32m----> 5\u001b[0m I1 \u001b[39m=\u001b[39m plt\u001b[39m.\u001b[39;49mimread(os\u001b[39m.\u001b[39;49mpath\u001b[39m.\u001b[39;49mjoin(data_path, \u001b[39m'\u001b[39;49m\u001b[39mocean_day.jpg\u001b[39;49m\u001b[39m'\u001b[39;49m))\u001b[39m.\u001b[39mastype(np\u001b[39m.\u001b[39mfloat64) \u001b[39m/\u001b[39m \u001b[39m256\u001b[39m\n\u001b[1;32m      6\u001b[0m I2 \u001b[39m=\u001b[39m plt\u001b[39m.\u001b[39mimread(os\u001b[39m.\u001b[39mpath\u001b[39m.\u001b[39mjoin(data_path, \u001b[39m'\u001b[39m\u001b[39mocean_sunset.jpg\u001b[39m\u001b[39m'\u001b[39m))\u001b[39m.\u001b[39mastype(np\u001b[39m.\u001b[39mfloat64) \u001b[39m/\u001b[39m \u001b[39m256\u001b[39m\n\u001b[1;32m      8\u001b[0m X1 \u001b[39m=\u001b[39m im2mat(I1)\n",
            "File \u001b[0;32m~/miniforge3/envs/work/lib/python3.10/site-packages/matplotlib/pyplot.py:2195\u001b[0m, in \u001b[0;36mimread\u001b[0;34m(fname, format)\u001b[0m\n\u001b[1;32m   2193\u001b[0m \u001b[39m@_copy_docstring_and_deprecators\u001b[39m(matplotlib\u001b[39m.\u001b[39mimage\u001b[39m.\u001b[39mimread)\n\u001b[1;32m   2194\u001b[0m \u001b[39mdef\u001b[39;00m \u001b[39mimread\u001b[39m(fname, \u001b[39mformat\u001b[39m\u001b[39m=\u001b[39m\u001b[39mNone\u001b[39;00m):\n\u001b[0;32m-> 2195\u001b[0m     \u001b[39mreturn\u001b[39;00m matplotlib\u001b[39m.\u001b[39;49mimage\u001b[39m.\u001b[39;49mimread(fname, \u001b[39mformat\u001b[39;49m)\n",
            "File \u001b[0;32m~/miniforge3/envs/work/lib/python3.10/site-packages/matplotlib/image.py:1563\u001b[0m, in \u001b[0;36mimread\u001b[0;34m(fname, format)\u001b[0m\n\u001b[1;32m   1556\u001b[0m \u001b[39mif\u001b[39;00m \u001b[39misinstance\u001b[39m(fname, \u001b[39mstr\u001b[39m) \u001b[39mand\u001b[39;00m \u001b[39mlen\u001b[39m(parse\u001b[39m.\u001b[39murlparse(fname)\u001b[39m.\u001b[39mscheme) \u001b[39m>\u001b[39m \u001b[39m1\u001b[39m:\n\u001b[1;32m   1557\u001b[0m     \u001b[39m# Pillow doesn't handle URLs directly.\u001b[39;00m\n\u001b[1;32m   1558\u001b[0m     \u001b[39mraise\u001b[39;00m \u001b[39mValueError\u001b[39;00m(\n\u001b[1;32m   1559\u001b[0m         \u001b[39m\"\u001b[39m\u001b[39mPlease open the URL for reading and pass the \u001b[39m\u001b[39m\"\u001b[39m\n\u001b[1;32m   1560\u001b[0m         \u001b[39m\"\u001b[39m\u001b[39mresult to Pillow, e.g. with \u001b[39m\u001b[39m\"\u001b[39m\n\u001b[1;32m   1561\u001b[0m         \u001b[39m\"\u001b[39m\u001b[39m``np.array(PIL.Image.open(urllib.request.urlopen(url)))``.\u001b[39m\u001b[39m\"\u001b[39m\n\u001b[1;32m   1562\u001b[0m         )\n\u001b[0;32m-> 1563\u001b[0m \u001b[39mwith\u001b[39;00m img_open(fname) \u001b[39mas\u001b[39;00m image:\n\u001b[1;32m   1564\u001b[0m     \u001b[39mreturn\u001b[39;00m (_pil_png_to_float_array(image)\n\u001b[1;32m   1565\u001b[0m             \u001b[39mif\u001b[39;00m \u001b[39misinstance\u001b[39m(image, PIL\u001b[39m.\u001b[39mPngImagePlugin\u001b[39m.\u001b[39mPngImageFile) \u001b[39melse\u001b[39;00m\n\u001b[1;32m   1566\u001b[0m             pil_to_array(image))\n",
            "File \u001b[0;32m~/miniforge3/envs/work/lib/python3.10/site-packages/PIL/Image.py:3227\u001b[0m, in \u001b[0;36mopen\u001b[0;34m(fp, mode, formats)\u001b[0m\n\u001b[1;32m   3224\u001b[0m     filename \u001b[39m=\u001b[39m fp\n\u001b[1;32m   3226\u001b[0m \u001b[39mif\u001b[39;00m filename:\n\u001b[0;32m-> 3227\u001b[0m     fp \u001b[39m=\u001b[39m builtins\u001b[39m.\u001b[39;49mopen(filename, \u001b[39m\"\u001b[39;49m\u001b[39mrb\u001b[39;49m\u001b[39m\"\u001b[39;49m)\n\u001b[1;32m   3228\u001b[0m     exclusive_fp \u001b[39m=\u001b[39m \u001b[39mTrue\u001b[39;00m\n\u001b[1;32m   3230\u001b[0m \u001b[39mtry\u001b[39;00m:\n",
            "\u001b[0;31mFileNotFoundError\u001b[0m: [Errno 2] No such file or directory: '/Users/theoalegretti/Documents/data/ocean_day.jpg'"
          ]
        }
      ],
      "source": [
        "# Loading images\n",
        "this_file = os.path.realpath('__file__')\n",
        "data_path = os.path.join(Path(this_file).parent.parent.parent, 'data')\n",
        "\n",
        "I1 = plt.imread(os.path.join(data_path, 'ocean_day.jpg')).astype(np.float64) / 256\n",
        "I2 = plt.imread(os.path.join(data_path, 'ocean_sunset.jpg')).astype(np.float64) / 256\n",
        "\n",
        "X1 = im2mat(I1)\n",
        "X2 = im2mat(I2)\n",
        "\n",
        "# training samples\n",
        "nb = 500\n",
        "idx1 = rng.randint(X1.shape[0], size=(nb,))\n",
        "idx2 = rng.randint(X2.shape[0], size=(nb,))\n",
        "\n",
        "Xs = X1[idx1, :]\n",
        "Xt = X2[idx2, :]"
      ]
    },
    {
      "cell_type": "markdown",
      "metadata": {},
      "source": [
        "## Plot original image\n",
        "\n"
      ]
    },
    {
      "cell_type": "code",
      "execution_count": null,
      "metadata": {
        "collapsed": false
      },
      "outputs": [],
      "source": [
        "plt.figure(1, figsize=(6.4, 3))\n",
        "\n",
        "plt.subplot(1, 2, 1)\n",
        "plt.imshow(I1)\n",
        "plt.axis('off')\n",
        "plt.title('Image 1')\n",
        "\n",
        "plt.subplot(1, 2, 2)\n",
        "plt.imshow(I2)\n",
        "plt.axis('off')\n",
        "plt.title('Image 2')"
      ]
    },
    {
      "cell_type": "markdown",
      "metadata": {},
      "source": [
        "## Scatter plot of colors\n",
        "\n"
      ]
    },
    {
      "cell_type": "code",
      "execution_count": null,
      "metadata": {
        "collapsed": false
      },
      "outputs": [],
      "source": [
        "plt.figure(2, figsize=(6.4, 3))\n",
        "\n",
        "plt.subplot(1, 2, 1)\n",
        "plt.scatter(Xs[:, 0], Xs[:, 2], c=Xs)\n",
        "plt.axis([0, 1, 0, 1])\n",
        "plt.xlabel('Red')\n",
        "plt.ylabel('Blue')\n",
        "plt.title('Image 1')\n",
        "\n",
        "plt.subplot(1, 2, 2)\n",
        "plt.scatter(Xt[:, 0], Xt[:, 2], c=Xt)\n",
        "plt.axis([0, 1, 0, 1])\n",
        "plt.xlabel('Red')\n",
        "plt.ylabel('Blue')\n",
        "plt.title('Image 2')\n",
        "plt.tight_layout()"
      ]
    },
    {
      "cell_type": "markdown",
      "metadata": {},
      "source": [
        "## Instantiate the different transport algorithms and fit them\n",
        "\n"
      ]
    },
    {
      "cell_type": "code",
      "execution_count": null,
      "metadata": {
        "collapsed": false
      },
      "outputs": [],
      "source": [
        "# EMDTransport\n",
        "ot_emd = ot.da.EMDTransport()\n",
        "ot_emd.fit(Xs=Xs, Xt=Xt)\n",
        "\n",
        "# SinkhornTransport\n",
        "ot_sinkhorn = ot.da.SinkhornTransport(reg_e=1e-1)\n",
        "ot_sinkhorn.fit(Xs=Xs, Xt=Xt)\n",
        "\n",
        "# prediction between images (using out of sample prediction as in [6])\n",
        "transp_Xs_emd = ot_emd.transform(Xs=X1)\n",
        "transp_Xt_emd = ot_emd.inverse_transform(Xt=X2)\n",
        "\n",
        "transp_Xs_sinkhorn = ot_sinkhorn.transform(Xs=X1)\n",
        "transp_Xt_sinkhorn = ot_sinkhorn.inverse_transform(Xt=X2)\n",
        "\n",
        "I1t = minmax(mat2im(transp_Xs_emd, I1.shape))\n",
        "I2t = minmax(mat2im(transp_Xt_emd, I2.shape))\n",
        "\n",
        "I1te = minmax(mat2im(transp_Xs_sinkhorn, I1.shape))\n",
        "I2te = minmax(mat2im(transp_Xt_sinkhorn, I2.shape))"
      ]
    },
    {
      "cell_type": "markdown",
      "metadata": {},
      "source": [
        "## Plot new images\n",
        "\n"
      ]
    },
    {
      "cell_type": "code",
      "execution_count": null,
      "metadata": {
        "collapsed": false
      },
      "outputs": [],
      "source": [
        "plt.figure(3, figsize=(8, 4))\n",
        "\n",
        "plt.subplot(2, 3, 1)\n",
        "plt.imshow(I1)\n",
        "plt.axis('off')\n",
        "plt.title('Image 1')\n",
        "\n",
        "plt.subplot(2, 3, 2)\n",
        "plt.imshow(I1t)\n",
        "plt.axis('off')\n",
        "plt.title('Image 1 Adapt')\n",
        "\n",
        "plt.subplot(2, 3, 3)\n",
        "plt.imshow(I1te)\n",
        "plt.axis('off')\n",
        "plt.title('Image 1 Adapt (reg)')\n",
        "\n",
        "plt.subplot(2, 3, 4)\n",
        "plt.imshow(I2)\n",
        "plt.axis('off')\n",
        "plt.title('Image 2')\n",
        "\n",
        "plt.subplot(2, 3, 5)\n",
        "plt.imshow(I2t)\n",
        "plt.axis('off')\n",
        "plt.title('Image 2 Adapt')\n",
        "\n",
        "plt.subplot(2, 3, 6)\n",
        "plt.imshow(I2te)\n",
        "plt.axis('off')\n",
        "plt.title('Image 2 Adapt (reg)')\n",
        "plt.tight_layout()\n",
        "\n",
        "plt.show()"
      ]
    }
  ],
  "metadata": {
    "kernelspec": {
      "display_name": "Python 3",
      "language": "python",
      "name": "python3"
    },
    "language_info": {
      "codemirror_mode": {
        "name": "ipython",
        "version": 3
      },
      "file_extension": ".py",
      "mimetype": "text/x-python",
      "name": "python",
      "nbconvert_exporter": "python",
      "pygments_lexer": "ipython3",
      "version": "3.10.10"
    }
  },
  "nbformat": 4,
  "nbformat_minor": 0
}
